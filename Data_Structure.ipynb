{
  "nbformat": 4,
  "nbformat_minor": 0,
  "metadata": {
    "colab": {
      "provenance": []
    },
    "kernelspec": {
      "name": "python3",
      "display_name": "Python 3"
    },
    "language_info": {
      "name": "python"
    }
  },
  "cells": [
    {
      "cell_type": "code",
      "source": [
        "#Data Types and Structures Questions"
      ],
      "metadata": {
        "id": "TCIKTgQe9Psa"
      },
      "execution_count": 1,
      "outputs": []
    },
    {
      "cell_type": "markdown",
      "source": [
        "1. What are data structures, and why are they important?\n",
        "   ->1.Data structures are ways to store and organize data. They help make programs faster and easier to manage.\n"
      ],
      "metadata": {
        "id": "iYot0IG27G9B"
      }
    },
    {
      "cell_type": "markdown",
      "source": [
        "2.  Explain the difference between mutable and immutable data types with examples\n",
        "       ->2. Mutable types (like lists) can be changed after creation and  immutable types (like strings, tuples) cannot be changed."
      ],
      "metadata": {
        "id": "QEF2_Q5C7Iz1"
      }
    },
    {
      "cell_type": "markdown",
      "source": [
        "3.  What are the main differences between lists and tuples in Python\n",
        "    ->3. Lists are mutable and use more memory, while tuples are immutable and faster to access."
      ],
      "metadata": {
        "id": "nlororOH7NDO"
      }
    },
    {
      "cell_type": "markdown",
      "source": [
        "4.  Describe how dictionaries store data\n",
        "    ->4. Dictionaries store data in (key:value) pairs, where each key points to a specific value.\n",
        "\n"
      ],
      "metadata": {
        "id": "iZoZiKoX7M7k"
      }
    },
    {
      "cell_type": "markdown",
      "source": [
        "5.  Why might you use a set instead of a list in Python\n",
        "    ->5. Sets are used when you need only unique items and don't care about order.\n",
        "\n",
        "\n"
      ],
      "metadata": {
        "id": "n1giP0D67M0j"
      }
    },
    {
      "cell_type": "markdown",
      "source": [
        "6.  What is a string in Python, and how is it different from a list\n",
        "    ->6. A string is a sequence of characters. Unlike lists, strings can’t be changed once created.\n",
        "\n",
        "\n"
      ],
      "metadata": {
        "id": "0kp8QLIR7Mtu"
      }
    },
    {
      "cell_type": "markdown",
      "source": [
        "7.  How do tuples ensure data integrity in Python?\n",
        "    ->7. Tuples protect data from being changed, making them good for fixed collections like coordinates.\n",
        "\n"
      ],
      "metadata": {
        "id": "lsTEm0ah7MmS"
      }
    },
    {
      "cell_type": "markdown",
      "source": [
        "8. What is a hash table, and how does it relate to dictionaries in Python?\n",
        "    ->8. A hash table stores data using a key and Python’s dictionaries are built using hash tables for fast lookup.\n",
        "\n"
      ],
      "metadata": {
        "id": "ySB91d0P7Meo"
      }
    },
    {
      "cell_type": "markdown",
      "source": [
        "9. Can lists contain different data types in Python?\n",
        "    ->9. Yes, lists in Python can hold different data types like numbers, strings, and even other lists.\n",
        "\n"
      ],
      "metadata": {
        "id": "it6SlOZn7MVK"
      }
    },
    {
      "cell_type": "markdown",
      "source": [
        "10.  Explain why strings are immutable in Python?\n",
        "    ->10. Strings are immutable to save memory and ensure safety when used in multiple places.\n",
        "\n"
      ],
      "metadata": {
        "id": "VEWwqBP77MBy"
      }
    },
    {
      "cell_type": "markdown",
      "source": [
        "11.  What advantages do dictionaries offer over lists for certain tasks?\n",
        "    ->11. Dictionaries allow quick access to data using keys, while lists need to search by index or value.\n",
        "\n"
      ],
      "metadata": {
        "id": "0xVJceq97Lfa"
      }
    },
    {
      "cell_type": "markdown",
      "source": [
        "12. Describe a scenario where using a tuple would be preferable over a list.\n",
        "    ->12. Sets automatically remove duplicate values and store only one instance of each.\n",
        "\n"
      ],
      "metadata": {
        "id": "gpF0O5b17LUq"
      }
    },
    {
      "cell_type": "markdown",
      "source": [
        "13. How do sets handle duplicate values in Python?\n",
        "    ->13. Tuples are better for fixed data like dates (year, month, day) that shouldn’t change.\n",
        "\n",
        "\n"
      ],
      "metadata": {
        "id": "Q3zlDJpi7LB8"
      }
    },
    {
      "cell_type": "markdown",
      "source": [
        "14.  How does the “in” keyword work differently for lists and dictionaries?\n",
        "    ->14. In lists \"in\" checks for values and in dictionaries it checks for keys not values.\n",
        "\n"
      ],
      "metadata": {
        "id": "dy9sajir7K4r"
      }
    },
    {
      "cell_type": "markdown",
      "source": [
        "15. Can you modify the elements of a tuple? Explain why or why not.\n",
        "    ->15. No, you can't modify a tuple because it's immutable it protects its data.\n",
        "\n"
      ],
      "metadata": {
        "id": "y3PtwLgK7Kxj"
      }
    },
    {
      "cell_type": "markdown",
      "source": [
        "16. What is a nested dictionary, and give an example of its use case?\n",
        "    ->16. A nested dictionary is a dictionary inside another.\n",
        "Eg: student = {\"name\": \"akshit\", \"marks\": {\"math1\": 90, \"math2\": 85}}\n",
        "\n"
      ],
      "metadata": {
        "id": "GnIjWsjS7KqS"
      }
    },
    {
      "cell_type": "markdown",
      "source": [
        "17.  Describe the time complexity of accessing elements in a dictionary.\n",
        "    ->17. Accessing elements in a dictionary is O(1) time on average very fast.\n",
        "\n"
      ],
      "metadata": {
        "id": "qgs2Gq8C7Ki9"
      }
    },
    {
      "cell_type": "markdown",
      "source": [
        "18.  In what situations are lists preferred over dictionaries?\n",
        "    -> 18. Lists are better when order matters or when you want to store simple sequences.\n",
        "\n"
      ],
      "metadata": {
        "id": "Q0Po2shS_vMy"
      }
    },
    {
      "cell_type": "markdown",
      "source": [
        "19. Why are dictionaries considered unordered, and how does that affect data retrieval?\n",
        "    ->19. Dictionaries don’t guarantee key order before Python 3.7, so data comes out in no fixed order (in older versions).\n",
        "\n"
      ],
      "metadata": {
        "id": "acLs0F7y7KRE"
      }
    },
    {
      "cell_type": "markdown",
      "source": [
        "20.  Explain the difference between a list and a dictionary in terms of data retrieval.\n",
        "    ->20. In a list, you retrieve data by index; in a dictionary, you use keys for faster and more flexible access.\n",
        "\n"
      ],
      "metadata": {
        "id": "UconCRTP7KFX"
      }
    },
    {
      "cell_type": "code",
      "source": [
        "#  Practical Questions"
      ],
      "metadata": {
        "id": "lMG12pWpAp_c"
      },
      "execution_count": null,
      "outputs": []
    },
    {
      "cell_type": "code",
      "source": [
        "#1. Write a code to create a string with your name and print it.\n",
        "name = \"Akshit\"\n",
        "print(name)\n"
      ],
      "metadata": {
        "colab": {
          "base_uri": "https://localhost:8080/"
        },
        "id": "2NUih-4TCbEj",
        "outputId": "e797c589-532a-4469-e96d-2b600d33ee1c"
      },
      "execution_count": 39,
      "outputs": [
        {
          "output_type": "stream",
          "name": "stdout",
          "text": [
            "Akshit\n"
          ]
        }
      ]
    },
    {
      "cell_type": "code",
      "source": [
        "#2. Write a code to find the length of the string \"Hello World\".\n",
        "text = \"akshit dawas\"\n",
        "print(len(text))\n",
        "\n",
        "\n"
      ],
      "metadata": {
        "colab": {
          "base_uri": "https://localhost:8080/"
        },
        "id": "w-_gEaKuCa_d",
        "outputId": "de2a861d-4935-40fe-a3a3-f0b8228b8777"
      },
      "execution_count": 38,
      "outputs": [
        {
          "output_type": "stream",
          "name": "stdout",
          "text": [
            "12\n"
          ]
        }
      ]
    },
    {
      "cell_type": "code",
      "source": [
        "#3. Write a code to slice the first 3 characters from the string \"Python Programming\".\n",
        "s = \"Python Programming\"\n",
        "print(s[:3])\n",
        "\n"
      ],
      "metadata": {
        "colab": {
          "base_uri": "https://localhost:8080/"
        },
        "id": "SEXZi2x-Ca6B",
        "outputId": "ccc20641-73ba-42b2-b885-f6834324adeb"
      },
      "execution_count": 43,
      "outputs": [
        {
          "output_type": "stream",
          "name": "stdout",
          "text": [
            "Pyt\n"
          ]
        }
      ]
    },
    {
      "cell_type": "code",
      "source": [
        "#4. Write a code to convert the string \"hello\" to uppercase.\n",
        "word = \"hello\"\n",
        "print(word.upper())\n"
      ],
      "metadata": {
        "colab": {
          "base_uri": "https://localhost:8080/"
        },
        "id": "VLnQ54_eCatP",
        "outputId": "f3371fe9-cb48-489d-a75d-84972d4984d4"
      },
      "execution_count": 42,
      "outputs": [
        {
          "output_type": "stream",
          "name": "stdout",
          "text": [
            "HELLO\n"
          ]
        }
      ]
    },
    {
      "cell_type": "code",
      "source": [
        "#5. Write a code to replace the word \"apple\" with \"orange\" in the string \"I like apple\".\n",
        "sentence = \"I like apple\"\n",
        "print(sentence.replace(\"apple\", \"orange\"))\n",
        "\n"
      ],
      "metadata": {
        "colab": {
          "base_uri": "https://localhost:8080/"
        },
        "id": "HblXb3DUCanZ",
        "outputId": "7759f2ee-887f-4728-ed3e-39899275bda6"
      },
      "execution_count": 35,
      "outputs": [
        {
          "output_type": "stream",
          "name": "stdout",
          "text": [
            "I like orange\n"
          ]
        }
      ]
    },
    {
      "cell_type": "code",
      "source": [
        "#6. Write a code to create a list with numbers 1 to 5 and print it.\n",
        "numbers = [1, 2, 3, 4, 5]\n",
        "print(numbers)\n",
        "\n"
      ],
      "metadata": {
        "colab": {
          "base_uri": "https://localhost:8080/"
        },
        "id": "gjQi5r06Cah3",
        "outputId": "b8770dba-754f-4779-ded7-a5c0423cf1fa"
      },
      "execution_count": 34,
      "outputs": [
        {
          "output_type": "stream",
          "name": "stdout",
          "text": [
            "[1, 2, 3, 4, 5]\n"
          ]
        }
      ]
    },
    {
      "cell_type": "code",
      "source": [
        "#7. Write a code to append the number 10 to the list [1, 2, 3, 4]\n",
        "nums = [1, 2, 3, 4]\n",
        "nums.append(100)\n",
        "print(nums)\n",
        "\n"
      ],
      "metadata": {
        "colab": {
          "base_uri": "https://localhost:8080/"
        },
        "id": "MTac0YpzCacH",
        "outputId": "6f3587aa-5478-4cd7-9ec5-649ad29a387f"
      },
      "execution_count": 33,
      "outputs": [
        {
          "output_type": "stream",
          "name": "stdout",
          "text": [
            "[1, 2, 3, 4, 100]\n"
          ]
        }
      ]
    },
    {
      "cell_type": "code",
      "source": [
        "#8. Write a code to remove the number 3 from the list [1, 2, 3, 4, 5]\n",
        "nums = [1, 2, 3, 4, 5]\n",
        "nums.remove(5)\n",
        "print(nums)\n",
        "\n"
      ],
      "metadata": {
        "colab": {
          "base_uri": "https://localhost:8080/"
        },
        "id": "uxjG7Qx1CaWo",
        "outputId": "d11ef9f8-0d75-4879-eb80-bc0c389cba2f"
      },
      "execution_count": 41,
      "outputs": [
        {
          "output_type": "stream",
          "name": "stdout",
          "text": [
            "[1, 2, 3, 4]\n"
          ]
        }
      ]
    },
    {
      "cell_type": "code",
      "source": [
        "#9. Write a code to access the second element in the list ['a', 'b', 'c', 'd']\n",
        "letters = ['a', 'b', 'c', 'd']\n",
        "print(letters[1])\n",
        "\n"
      ],
      "metadata": {
        "colab": {
          "base_uri": "https://localhost:8080/"
        },
        "id": "0RWAFnpOCaQH",
        "outputId": "005a7881-eccb-445f-b959-ddf53dbab11f"
      },
      "execution_count": 10,
      "outputs": [
        {
          "output_type": "stream",
          "name": "stdout",
          "text": [
            "b\n"
          ]
        }
      ]
    },
    {
      "cell_type": "code",
      "source": [
        "#10. Write a code to reverse the list [10, 20, 30, 40, 50].\n",
        "nums = [10, 20, 30, 40, 50]\n",
        "nums.reverse()\n",
        "print(nums)\n",
        "\n"
      ],
      "metadata": {
        "colab": {
          "base_uri": "https://localhost:8080/"
        },
        "id": "jBURympbCaGG",
        "outputId": "e1387035-2c0a-4fe0-b1f1-295ab7531737"
      },
      "execution_count": 11,
      "outputs": [
        {
          "output_type": "stream",
          "name": "stdout",
          "text": [
            "[50, 40, 30, 20, 10]\n"
          ]
        }
      ]
    },
    {
      "cell_type": "code",
      "source": [
        "#11.  Write a code to create a tuple with the elements 100, 200, 300 and print it\n",
        "t = (100, 200, 300)\n",
        "print(t)\n"
      ],
      "metadata": {
        "colab": {
          "base_uri": "https://localhost:8080/"
        },
        "id": "QGsIsCoeEd1u",
        "outputId": "b63dbe91-7f37-4803-a20a-e83d628f790e"
      },
      "execution_count": 12,
      "outputs": [
        {
          "output_type": "stream",
          "name": "stdout",
          "text": [
            "(100, 200, 300)\n"
          ]
        }
      ]
    },
    {
      "cell_type": "code",
      "source": [
        "#12. Write a code to access the second-to-last element of the tuple ('red', 'green', 'blue', 'yellow')\n",
        "colors = ('red', 'green', 'blue', 'yellow')\n",
        "print(colors[-2])\n",
        "\n"
      ],
      "metadata": {
        "colab": {
          "base_uri": "https://localhost:8080/"
        },
        "id": "MnQ7d2TLEdvC",
        "outputId": "59a4278d-c7fd-48d9-900e-436a8ee253ad"
      },
      "execution_count": 13,
      "outputs": [
        {
          "output_type": "stream",
          "name": "stdout",
          "text": [
            "blue\n"
          ]
        }
      ]
    },
    {
      "cell_type": "code",
      "source": [
        "#13.Write a code to find the minimum number in the tuple (10, 20, 5, 15)\n",
        "nums = (10, 20, 5, 15)\n",
        "print(min(nums))\n"
      ],
      "metadata": {
        "colab": {
          "base_uri": "https://localhost:8080/"
        },
        "id": "TYMoVUrSEdoa",
        "outputId": "ce189a24-68bd-46b4-a387-1b6ae06e90c2"
      },
      "execution_count": 14,
      "outputs": [
        {
          "output_type": "stream",
          "name": "stdout",
          "text": [
            "5\n"
          ]
        }
      ]
    },
    {
      "cell_type": "code",
      "source": [
        "#14.Write a code to find the index of the element \"cat\" in the tuple ('dog', 'cat', 'rabbit').\n",
        "animals = ('dog', 'cat', 'rabbit')\n",
        "print(animals.index('cat'))\n"
      ],
      "metadata": {
        "colab": {
          "base_uri": "https://localhost:8080/"
        },
        "id": "h5M2hn7eEdhs",
        "outputId": "e5bf74b6-a76e-4c7d-c6f4-0a8835367d2a"
      },
      "execution_count": 15,
      "outputs": [
        {
          "output_type": "stream",
          "name": "stdout",
          "text": [
            "1\n"
          ]
        }
      ]
    },
    {
      "cell_type": "code",
      "source": [
        "#15. Write a code to create a tuple containing three different fruits and check if \"kiwi\" is in it.\n",
        "fruits = ('apple', 'banana', 'orange')\n",
        "print('kiwi' in fruits)\n"
      ],
      "metadata": {
        "colab": {
          "base_uri": "https://localhost:8080/"
        },
        "id": "-oQiZpikEdXm",
        "outputId": "b50fdc98-eaad-4346-8639-39d09eff668e"
      },
      "execution_count": 16,
      "outputs": [
        {
          "output_type": "stream",
          "name": "stdout",
          "text": [
            "False\n"
          ]
        }
      ]
    },
    {
      "cell_type": "code",
      "source": [
        "#16. Write a code to create a set with the elements 'a', 'b', 'c' and print it\n",
        "s = {'a', 'b', 'c'}\n",
        "print(s)\n"
      ],
      "metadata": {
        "colab": {
          "base_uri": "https://localhost:8080/"
        },
        "id": "177EUORiEdQ0",
        "outputId": "1a90e919-6004-4719-9de9-37d1074cc863"
      },
      "execution_count": 32,
      "outputs": [
        {
          "output_type": "stream",
          "name": "stdout",
          "text": [
            "{'b', 'c', 'a'}\n"
          ]
        }
      ]
    },
    {
      "cell_type": "code",
      "source": [
        "#17. Write a code to clear all elements from the set {1, 2, 3, 4, 5}.\n",
        "s = {1, 2, 3, 4, 5}\n",
        "s.clear()\n",
        "print(s)\n"
      ],
      "metadata": {
        "colab": {
          "base_uri": "https://localhost:8080/"
        },
        "id": "2AHPD2SCEdKT",
        "outputId": "914383a0-b738-4b8a-faa3-b12991932442"
      },
      "execution_count": 31,
      "outputs": [
        {
          "output_type": "stream",
          "name": "stdout",
          "text": [
            "set()\n"
          ]
        }
      ]
    },
    {
      "cell_type": "code",
      "source": [
        "#18. Write a code to remove the element 4 from the set {1, 2, 3, 4}\n",
        "s = {1, 2, 3, 4}\n",
        "s.remove(4)\n",
        "print(s)\n"
      ],
      "metadata": {
        "colab": {
          "base_uri": "https://localhost:8080/"
        },
        "id": "Tq5AI6uxEdC1",
        "outputId": "9e4b5878-2c16-4a87-8515-b2c79bb5c2c4"
      },
      "execution_count": 29,
      "outputs": [
        {
          "output_type": "stream",
          "name": "stdout",
          "text": [
            "{1, 2, 3}\n"
          ]
        }
      ]
    },
    {
      "cell_type": "code",
      "source": [
        "#19. Write a code to find the union of two sets {1, 2, 3} and {3, 4, 5}.\n",
        "a = {1, 2, 3}\n",
        "b = {3, 4, 5}\n",
        "print(a.union(b))\n"
      ],
      "metadata": {
        "colab": {
          "base_uri": "https://localhost:8080/"
        },
        "id": "OGDoluV8EcZu",
        "outputId": "c89469fd-b253-4f38-b898-d2aa79740fe1"
      },
      "execution_count": 30,
      "outputs": [
        {
          "output_type": "stream",
          "name": "stdout",
          "text": [
            "{1, 2, 3, 4, 5}\n"
          ]
        }
      ]
    },
    {
      "cell_type": "code",
      "source": [
        "#20. Write a code to find the intersection of two sets {1, 2, 3} and {2, 3, 4}\n",
        "a = {1, 2, 3}\n",
        "b = {2, 3, 4}\n",
        "print(a.intersection(b))\n"
      ],
      "metadata": {
        "colab": {
          "base_uri": "https://localhost:8080/"
        },
        "id": "T08OKu7kEcTz",
        "outputId": "ff66821d-a319-4984-daa1-ca34797e7c32"
      },
      "execution_count": 28,
      "outputs": [
        {
          "output_type": "stream",
          "name": "stdout",
          "text": [
            "{2, 3}\n"
          ]
        }
      ]
    },
    {
      "cell_type": "code",
      "source": [
        "#21. Write a code to create a dictionary with the keys \"name\", \"age\", and \"city\", and print it\n",
        "info = {\"name\": \"John\", \"age\": 25, \"city\": \"Delhi\"}\n",
        "print(info)\n",
        "\n"
      ],
      "metadata": {
        "colab": {
          "base_uri": "https://localhost:8080/"
        },
        "id": "djANQt79EcOd",
        "outputId": "18e4db89-cfcd-467b-cbc5-6ee3dc0f5da6"
      },
      "execution_count": 27,
      "outputs": [
        {
          "output_type": "stream",
          "name": "stdout",
          "text": [
            "{'name': 'John', 'age': 25, 'city': 'Delhi'}\n"
          ]
        }
      ]
    },
    {
      "cell_type": "code",
      "source": [
        "#22.Write a code to add a new key-value pair \"country\": \"USA\" to the dictionary {'name': 'John', 'age': 25}.\n",
        "person = {'name': 'John', 'age': 25}\n",
        "person['country'] = 'USA'\n",
        "print(person)\n"
      ],
      "metadata": {
        "colab": {
          "base_uri": "https://localhost:8080/"
        },
        "id": "5OyyA4RLEcJq",
        "outputId": "4c13d0bb-4459-4ff4-e683-41772037b714"
      },
      "execution_count": 26,
      "outputs": [
        {
          "output_type": "stream",
          "name": "stdout",
          "text": [
            "{'name': 'John', 'age': 25, 'country': 'USA'}\n"
          ]
        }
      ]
    },
    {
      "cell_type": "code",
      "source": [
        "#23. Write a code to access the value associated with the key \"name\" in the dictionary {'name': 'Alice', 'age': 30}.\n",
        "data = {'name': 'Alice', 'age': 30}\n",
        "print(data['name'])\n"
      ],
      "metadata": {
        "colab": {
          "base_uri": "https://localhost:8080/"
        },
        "id": "2UBNtiu-EcD3",
        "outputId": "464d0294-649c-4764-e41f-965e69e74fc0"
      },
      "execution_count": 25,
      "outputs": [
        {
          "output_type": "stream",
          "name": "stdout",
          "text": [
            "Alice\n"
          ]
        }
      ]
    },
    {
      "cell_type": "code",
      "source": [
        "#24. Write a code to remove the key \"age\" from the dictionary {'name': 'Bob', 'age': 22, 'city': 'New York'}.\n",
        "person = {'name': 'Bob', 'age': 22, 'city': 'New York'}\n",
        "del person['age']\n",
        "print(person)\n"
      ],
      "metadata": {
        "colab": {
          "base_uri": "https://localhost:8080/"
        },
        "id": "SIdGq_TlEb-f",
        "outputId": "615cf7d4-bab6-4a08-a138-4b2c6921fd42"
      },
      "execution_count": 24,
      "outputs": [
        {
          "output_type": "stream",
          "name": "stdout",
          "text": [
            "{'name': 'Bob', 'city': 'New York'}\n"
          ]
        }
      ]
    },
    {
      "cell_type": "code",
      "source": [
        "#25. Write a code to check if the key \"city\" exists in the dictionary {'name': 'Alice', 'city': 'Paris'}.\n",
        "data = {'name': 'Alice', 'city': 'Paris'}\n",
        "print('city' in data)\n"
      ],
      "metadata": {
        "colab": {
          "base_uri": "https://localhost:8080/"
        },
        "id": "6ik56CbsEb4v",
        "outputId": "1b7084fb-8d8d-4051-c067-e9bdb17b09ff"
      },
      "execution_count": 23,
      "outputs": [
        {
          "output_type": "stream",
          "name": "stdout",
          "text": [
            "True\n"
          ]
        }
      ]
    },
    {
      "cell_type": "code",
      "source": [
        "#26. Write a code to create a list, a tuple, and a dictionary, and print them all\n",
        "my_list = [1, 2, 3]\n",
        "my_tuple = (4, 5, 6)\n",
        "my_dict = {'a': 1, 'b': 2}\n",
        "print(my_list, my_tuple, my_dict)\n"
      ],
      "metadata": {
        "colab": {
          "base_uri": "https://localhost:8080/"
        },
        "id": "iKLwOX97EbzR",
        "outputId": "e97da5fd-8e80-4369-f945-9acc703f601c"
      },
      "execution_count": 22,
      "outputs": [
        {
          "output_type": "stream",
          "name": "stdout",
          "text": [
            "[1, 2, 3] (4, 5, 6) {'a': 1, 'b': 2}\n"
          ]
        }
      ]
    },
    {
      "cell_type": "code",
      "source": [
        "#27. Write a code to create a list of 5 random numbers between 1 and 100, sort it in ascending order, and print the result.(replaced)\n",
        "import random\n",
        "nums = random.sample(range(1, 101), 5)\n",
        "nums.sort()\n",
        "print(nums)\n"
      ],
      "metadata": {
        "colab": {
          "base_uri": "https://localhost:8080/"
        },
        "id": "YO2eiEh4Ebte",
        "outputId": "70acb7ff-b7d0-4383-c662-b6d82bfa22e3"
      },
      "execution_count": 21,
      "outputs": [
        {
          "output_type": "stream",
          "name": "stdout",
          "text": [
            "[28, 40, 55, 60, 97]\n"
          ]
        }
      ]
    },
    {
      "cell_type": "code",
      "source": [
        "#28. Write a code to create a list with strings and print the element at the third index.\n",
        "words = ['apple', 'banana', 'cherry', 'date', 'fig']\n",
        "print(words[3])\n"
      ],
      "metadata": {
        "colab": {
          "base_uri": "https://localhost:8080/"
        },
        "id": "2ga-wc39EbnT",
        "outputId": "eabfdde6-cb01-4d1b-9fbc-798c6d0ea80c"
      },
      "execution_count": 20,
      "outputs": [
        {
          "output_type": "stream",
          "name": "stdout",
          "text": [
            "date\n"
          ]
        }
      ]
    },
    {
      "cell_type": "code",
      "source": [
        "#29. Write a code to combine two dictionaries into one and print the result.\n",
        "a = {'x': 1, 'y': 2}\n",
        "b = {'z': 3}\n",
        "a.update(b)\n",
        "print(a)\n"
      ],
      "metadata": {
        "colab": {
          "base_uri": "https://localhost:8080/"
        },
        "id": "WlgkMkHmEajA",
        "outputId": "494e6cde-6297-43b6-fed7-9e3ad3ed8904"
      },
      "execution_count": 19,
      "outputs": [
        {
          "output_type": "stream",
          "name": "stdout",
          "text": [
            "{'x': 1, 'y': 2, 'z': 3}\n"
          ]
        }
      ]
    },
    {
      "cell_type": "code",
      "source": [
        "#30.Write a code to convert a list of strings into a set\n",
        "words = ['apple', 'banana', 'apple']\n",
        "word_set = set(words)\n",
        "print(word_set)\n"
      ],
      "metadata": {
        "colab": {
          "base_uri": "https://localhost:8080/"
        },
        "id": "l3OiI9d6EaT4",
        "outputId": "6cb4de50-64a1-4dd4-8d05-7550b83f7d75"
      },
      "execution_count": 18,
      "outputs": [
        {
          "output_type": "stream",
          "name": "stdout",
          "text": [
            "{'banana', 'apple'}\n"
          ]
        }
      ]
    }
  ]
}